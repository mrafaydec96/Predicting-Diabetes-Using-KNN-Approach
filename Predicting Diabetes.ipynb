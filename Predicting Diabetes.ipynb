{
 "cells": [
  {
   "cell_type": "markdown",
   "id": "10b565cd",
   "metadata": {},
   "source": [
    "# Predicting Diabetic Patients Using KNN Classifier"
   ]
  },
  {
   "cell_type": "code",
   "execution_count": 25,
   "id": "7fdb8444",
   "metadata": {},
   "outputs": [],
   "source": [
    "import pandas as pd\n",
    "import numpy as np\n",
    "import matplotlib.pyplot as plt\n",
    "import seaborn as sns\n",
    "import sklearn\n",
    "# do not show warnings\n",
    "import warnings\n",
    "warnings.filterwarnings('ignore')"
   ]
  },
  {
   "cell_type": "code",
   "execution_count": 26,
   "id": "f7e765d9",
   "metadata": {},
   "outputs": [
    {
     "name": "stdout",
     "output_type": "stream",
     "text": [
      "Index(['ID', 'No_Pation', 'Gender', 'AGE', 'Urea', 'Cr', 'HbA1c', 'Chol', 'TG',\n",
      "       'HDL', 'LDL', 'VLDL', 'BMI', 'CLASS'],\n",
      "      dtype='object')\n",
      "(1000, 14)\n",
      "The null values in each column are ID           0\n",
      "No_Pation    0\n",
      "Gender       0\n",
      "AGE          0\n",
      "Urea         0\n",
      "Cr           0\n",
      "HbA1c        0\n",
      "Chol         0\n",
      "TG           0\n",
      "HDL          0\n",
      "LDL          0\n",
      "VLDL         0\n",
      "BMI          0\n",
      "CLASS        0\n",
      "dtype: int64\n"
     ]
    }
   ],
   "source": [
    "# Reading data from the 'dataset.csv' using pandas as dataframe\n",
    "data = pd.read_csv('Diabetes_Dataset.csv')\n",
    "print(data.columns)\n",
    "print(data.shape)\n",
    "# find the null values counts in eac\n",
    "print(f'The null values in each column are {data.isnull().sum()}')"
   ]
  },
  {
   "cell_type": "code",
   "execution_count": 27,
   "id": "af1d9fd4",
   "metadata": {},
   "outputs": [
    {
     "name": "stdout",
     "output_type": "stream",
     "text": [
      "Index(['ID', 'Gender', 'AGE', 'Urea', 'Cr', 'HbA1c', 'Chol', 'TG', 'HDL',\n",
      "       'LDL', 'VLDL', 'BMI', 'CLASS'],\n",
      "      dtype='object')\n",
      "(1000, 13)\n",
      "The null values in each column are ID        0\n",
      "Gender    0\n",
      "AGE       0\n",
      "Urea      0\n",
      "Cr        0\n",
      "HbA1c     0\n",
      "Chol      0\n",
      "TG        0\n",
      "HDL       0\n",
      "LDL       0\n",
      "VLDL      0\n",
      "BMI       0\n",
      "CLASS     0\n",
      "dtype: int64\n"
     ]
    }
   ],
   "source": [
    "column_to_drop = \"No_Pation\"\n",
    "data = data.drop(column_to_drop, axis=1)\n",
    "\n",
    "# Display the columns after dropping\n",
    "print(data.columns)\n",
    "print(data.shape)\n",
    "# find the null values counts in eac\n",
    "print(f'The null values in each column are {data.isnull().sum()}')"
   ]
  },
  {
   "cell_type": "code",
   "execution_count": 28,
   "id": "35216fb7",
   "metadata": {},
   "outputs": [
    {
     "name": "stdout",
     "output_type": "stream",
     "text": [
      "The unique value of gender are ['F' 'M' 'f']\n",
      "The unique value of target are ['N' 'N ' 'P' 'Y' 'Y ']\n",
      "The unique value of gender after preprocessing are ['f' 'm']\n",
      "The unique value of target after preprocessing are ['n' 'p' 'y']\n"
     ]
    }
   ],
   "source": [
    "print(f'The unique value of gender are {data.Gender.unique()}')\n",
    "print(f'The unique value of target are {data.CLASS.unique()}')  \n",
    "# print correlation of the features \n",
    "data['Gender'] = data['Gender'].str.lower()\n",
    "data['CLASS'] = data['CLASS'].str.lower()\n",
    "data['CLASS'] = data['CLASS'].str.strip()\n",
    "# check the uique values in gender column \n",
    "print(f'The unique value of gender after preprocessing are {data.Gender.unique()}')\n",
    "# print the unique values in target column\n",
    "print(f'The unique value of target after preprocessing are {data.CLASS.unique()}')"
   ]
  },
  {
   "cell_type": "code",
   "execution_count": 29,
   "id": "d9fe259c",
   "metadata": {},
   "outputs": [
    {
     "name": "stdout",
     "output_type": "stream",
     "text": [
      "Unique classes count are CLASS\n",
      "y    844\n",
      "n    103\n",
      "p     53\n",
      "Name: count, dtype: int64\n"
     ]
    }
   ],
   "source": [
    "# print the value counts of each class in target column\n",
    "print(f'Unique classes count are {data[\"CLASS\"].value_counts()}')"
   ]
  },
  {
   "cell_type": "code",
   "execution_count": 31,
   "id": "2bf86383",
   "metadata": {},
   "outputs": [
    {
     "name": "stdout",
     "output_type": "stream",
     "text": [
      "(1000, 12)\n",
      "(1000,)\n"
     ]
    }
   ],
   "source": [
    "features = data[['ID', 'Gender', 'AGE', 'Urea', 'Cr', 'HbA1c', 'Chol', 'TG',\n",
    "       'HDL', 'LDL', 'VLDL', 'BMI']]\n",
    "target = data['CLASS']\n",
    "print(features.shape)\n",
    "print(target.shape)"
   ]
  },
  {
   "cell_type": "code",
   "execution_count": 32,
   "id": "a95ef29a",
   "metadata": {},
   "outputs": [
    {
     "name": "stdout",
     "output_type": "stream",
     "text": [
      "{0: 'f', 1: 'm'}\n",
      "{0: 'n', 1: 'p', 2: 'y'}\n"
     ]
    }
   ],
   "source": [
    "# one hot enconding on both features[['Gender']] and target using labelencoder\n",
    "from sklearn.preprocessing import LabelEncoder\n",
    "encoder = LabelEncoder()\n",
    "features['Gender_encoded'] = encoder.fit_transform(features['Gender'])\n",
    "le_gender_mapping = dict(zip( encoder.transform(encoder.classes_),encoder.classes_))\n",
    "print(le_gender_mapping)\n",
    "target_encoded = encoder.fit_transform(target)\n",
    "le_class_mapping = dict(zip(encoder.transform(encoder.classes_),encoder.classes_))\n",
    "print(le_class_mapping)"
   ]
  },
  {
   "cell_type": "code",
   "execution_count": 33,
   "id": "b31254c4",
   "metadata": {},
   "outputs": [
    {
     "data": {
      "text/html": [
       "<div>\n",
       "<style scoped>\n",
       "    .dataframe tbody tr th:only-of-type {\n",
       "        vertical-align: middle;\n",
       "    }\n",
       "\n",
       "    .dataframe tbody tr th {\n",
       "        vertical-align: top;\n",
       "    }\n",
       "\n",
       "    .dataframe thead th {\n",
       "        text-align: right;\n",
       "    }\n",
       "</style>\n",
       "<table border=\"1\" class=\"dataframe\">\n",
       "  <thead>\n",
       "    <tr style=\"text-align: right;\">\n",
       "      <th></th>\n",
       "      <th>AGE</th>\n",
       "      <th>Urea</th>\n",
       "      <th>Cr</th>\n",
       "      <th>HbA1c</th>\n",
       "      <th>Chol</th>\n",
       "      <th>TG</th>\n",
       "      <th>HDL</th>\n",
       "      <th>LDL</th>\n",
       "      <th>VLDL</th>\n",
       "      <th>BMI</th>\n",
       "      <th>Gender_encoded</th>\n",
       "    </tr>\n",
       "  </thead>\n",
       "  <tbody>\n",
       "    <tr>\n",
       "      <th>AGE</th>\n",
       "      <td>1.000000</td>\n",
       "      <td>0.105092</td>\n",
       "      <td>0.054941</td>\n",
       "      <td>0.379136</td>\n",
       "      <td>0.036649</td>\n",
       "      <td>0.148204</td>\n",
       "      <td>-0.020038</td>\n",
       "      <td>0.016105</td>\n",
       "      <td>-0.087903</td>\n",
       "      <td>0.375956</td>\n",
       "      <td>0.021486</td>\n",
       "    </tr>\n",
       "    <tr>\n",
       "      <th>Urea</th>\n",
       "      <td>0.105092</td>\n",
       "      <td>1.000000</td>\n",
       "      <td>0.624134</td>\n",
       "      <td>-0.023603</td>\n",
       "      <td>0.001852</td>\n",
       "      <td>0.040980</td>\n",
       "      <td>-0.036994</td>\n",
       "      <td>-0.007301</td>\n",
       "      <td>-0.011191</td>\n",
       "      <td>0.045618</td>\n",
       "      <td>0.116311</td>\n",
       "    </tr>\n",
       "    <tr>\n",
       "      <th>Cr</th>\n",
       "      <td>0.054941</td>\n",
       "      <td>0.624134</td>\n",
       "      <td>1.000000</td>\n",
       "      <td>-0.037412</td>\n",
       "      <td>-0.007097</td>\n",
       "      <td>0.056579</td>\n",
       "      <td>-0.023804</td>\n",
       "      <td>0.039479</td>\n",
       "      <td>0.009615</td>\n",
       "      <td>0.054746</td>\n",
       "      <td>0.154870</td>\n",
       "    </tr>\n",
       "    <tr>\n",
       "      <th>HbA1c</th>\n",
       "      <td>0.379136</td>\n",
       "      <td>-0.023603</td>\n",
       "      <td>-0.037412</td>\n",
       "      <td>1.000000</td>\n",
       "      <td>0.177489</td>\n",
       "      <td>0.218556</td>\n",
       "      <td>0.028933</td>\n",
       "      <td>0.011057</td>\n",
       "      <td>0.073462</td>\n",
       "      <td>0.413350</td>\n",
       "      <td>-0.009362</td>\n",
       "    </tr>\n",
       "    <tr>\n",
       "      <th>Chol</th>\n",
       "      <td>0.036649</td>\n",
       "      <td>0.001852</td>\n",
       "      <td>-0.007097</td>\n",
       "      <td>0.177489</td>\n",
       "      <td>1.000000</td>\n",
       "      <td>0.321789</td>\n",
       "      <td>0.103814</td>\n",
       "      <td>0.416665</td>\n",
       "      <td>0.076294</td>\n",
       "      <td>0.013678</td>\n",
       "      <td>-0.064763</td>\n",
       "    </tr>\n",
       "    <tr>\n",
       "      <th>TG</th>\n",
       "      <td>0.148204</td>\n",
       "      <td>0.040980</td>\n",
       "      <td>0.056579</td>\n",
       "      <td>0.218556</td>\n",
       "      <td>0.321789</td>\n",
       "      <td>1.000000</td>\n",
       "      <td>-0.083001</td>\n",
       "      <td>0.015378</td>\n",
       "      <td>0.144570</td>\n",
       "      <td>0.110757</td>\n",
       "      <td>0.052111</td>\n",
       "    </tr>\n",
       "    <tr>\n",
       "      <th>HDL</th>\n",
       "      <td>-0.020038</td>\n",
       "      <td>-0.036994</td>\n",
       "      <td>-0.023804</td>\n",
       "      <td>0.028933</td>\n",
       "      <td>0.103814</td>\n",
       "      <td>-0.083001</td>\n",
       "      <td>1.000000</td>\n",
       "      <td>-0.142079</td>\n",
       "      <td>-0.059275</td>\n",
       "      <td>0.072409</td>\n",
       "      <td>-0.130130</td>\n",
       "    </tr>\n",
       "    <tr>\n",
       "      <th>LDL</th>\n",
       "      <td>0.016105</td>\n",
       "      <td>-0.007301</td>\n",
       "      <td>0.039479</td>\n",
       "      <td>0.011057</td>\n",
       "      <td>0.416665</td>\n",
       "      <td>0.015378</td>\n",
       "      <td>-0.142079</td>\n",
       "      <td>1.000000</td>\n",
       "      <td>0.062795</td>\n",
       "      <td>-0.067322</td>\n",
       "      <td>0.054563</td>\n",
       "    </tr>\n",
       "    <tr>\n",
       "      <th>VLDL</th>\n",
       "      <td>-0.087903</td>\n",
       "      <td>-0.011191</td>\n",
       "      <td>0.009615</td>\n",
       "      <td>0.073462</td>\n",
       "      <td>0.076294</td>\n",
       "      <td>0.144570</td>\n",
       "      <td>-0.059275</td>\n",
       "      <td>0.062795</td>\n",
       "      <td>1.000000</td>\n",
       "      <td>0.198133</td>\n",
       "      <td>0.194120</td>\n",
       "    </tr>\n",
       "    <tr>\n",
       "      <th>BMI</th>\n",
       "      <td>0.375956</td>\n",
       "      <td>0.045618</td>\n",
       "      <td>0.054746</td>\n",
       "      <td>0.413350</td>\n",
       "      <td>0.013678</td>\n",
       "      <td>0.110757</td>\n",
       "      <td>0.072409</td>\n",
       "      <td>-0.067322</td>\n",
       "      <td>0.198133</td>\n",
       "      <td>1.000000</td>\n",
       "      <td>0.072097</td>\n",
       "    </tr>\n",
       "    <tr>\n",
       "      <th>Gender_encoded</th>\n",
       "      <td>0.021486</td>\n",
       "      <td>0.116311</td>\n",
       "      <td>0.154870</td>\n",
       "      <td>-0.009362</td>\n",
       "      <td>-0.064763</td>\n",
       "      <td>0.052111</td>\n",
       "      <td>-0.130130</td>\n",
       "      <td>0.054563</td>\n",
       "      <td>0.194120</td>\n",
       "      <td>0.072097</td>\n",
       "      <td>1.000000</td>\n",
       "    </tr>\n",
       "  </tbody>\n",
       "</table>\n",
       "</div>"
      ],
      "text/plain": [
       "                     AGE      Urea        Cr     HbA1c      Chol        TG  \\\n",
       "AGE             1.000000  0.105092  0.054941  0.379136  0.036649  0.148204   \n",
       "Urea            0.105092  1.000000  0.624134 -0.023603  0.001852  0.040980   \n",
       "Cr              0.054941  0.624134  1.000000 -0.037412 -0.007097  0.056579   \n",
       "HbA1c           0.379136 -0.023603 -0.037412  1.000000  0.177489  0.218556   \n",
       "Chol            0.036649  0.001852 -0.007097  0.177489  1.000000  0.321789   \n",
       "TG              0.148204  0.040980  0.056579  0.218556  0.321789  1.000000   \n",
       "HDL            -0.020038 -0.036994 -0.023804  0.028933  0.103814 -0.083001   \n",
       "LDL             0.016105 -0.007301  0.039479  0.011057  0.416665  0.015378   \n",
       "VLDL           -0.087903 -0.011191  0.009615  0.073462  0.076294  0.144570   \n",
       "BMI             0.375956  0.045618  0.054746  0.413350  0.013678  0.110757   \n",
       "Gender_encoded  0.021486  0.116311  0.154870 -0.009362 -0.064763  0.052111   \n",
       "\n",
       "                     HDL       LDL      VLDL       BMI  Gender_encoded  \n",
       "AGE            -0.020038  0.016105 -0.087903  0.375956        0.021486  \n",
       "Urea           -0.036994 -0.007301 -0.011191  0.045618        0.116311  \n",
       "Cr             -0.023804  0.039479  0.009615  0.054746        0.154870  \n",
       "HbA1c           0.028933  0.011057  0.073462  0.413350       -0.009362  \n",
       "Chol            0.103814  0.416665  0.076294  0.013678       -0.064763  \n",
       "TG             -0.083001  0.015378  0.144570  0.110757        0.052111  \n",
       "HDL             1.000000 -0.142079 -0.059275  0.072409       -0.130130  \n",
       "LDL            -0.142079  1.000000  0.062795 -0.067322        0.054563  \n",
       "VLDL           -0.059275  0.062795  1.000000  0.198133        0.194120  \n",
       "BMI             0.072409 -0.067322  0.198133  1.000000        0.072097  \n",
       "Gender_encoded -0.130130  0.054563  0.194120  0.072097        1.000000  "
      ]
     },
     "execution_count": 33,
     "metadata": {},
     "output_type": "execute_result"
    }
   ],
   "source": [
    "numerical_features = features.drop(['ID','Gender'], axis=1)\n",
    "numerical_features.corr()"
   ]
  },
  {
   "cell_type": "code",
   "execution_count": 34,
   "id": "70149273",
   "metadata": {},
   "outputs": [
    {
     "data": {
      "image/png": "[encoded data removed]",
      "text/plain": [
       "<Figure size 800x600 with 2 Axes>"
      ]
     },
     "metadata": {},
     "output_type": "display_data"
    }
   ],
   "source": [
    "# Creating a heatmap using seaborn\n",
    "plt.figure(figsize=(8, 6))\n",
    "sns.heatmap(numerical_features.corr(), annot=True, cmap='coolwarm', fmt=\".1f\", linewidths=.5)\n",
    "plt.title('Correlation Heatmap of Rounded Digits')\n",
    "plt.show()"
   ]
  },
  {
   "cell_type": "code",
   "execution_count": 35,
   "id": "2e2d859b",
   "metadata": {},
   "outputs": [],
   "source": [
    "import numpy as np\n",
    "import pandas as pd\n",
    "from sklearn.model_selection import train_test_split\n",
    "from sklearn.neighbors import KNeighborsClassifier\n",
    "from sklearn.metrics import accuracy_score, classification_report"
   ]
  },
  {
   "cell_type": "code",
   "execution_count": 36,
   "id": "f1a06b2b",
   "metadata": {},
   "outputs": [
    {
     "name": "stdout",
     "output_type": "stream",
     "text": [
      "(array([0, 1, 2]), array([ 82,  43, 675], dtype=int64))\n",
      "(array([0, 1, 2]), array([ 21,  10, 169], dtype=int64))\n"
     ]
    }
   ],
   "source": [
    "X_train, X_test, y_train, y_test = train_test_split(numerical_features, target_encoded, test_size=0.2, random_state=42, stratify=target_encoded)\n",
    "\n",
    "''' When you use stratify=target_encoded, the function tries to ensure \n",
    "that the proportion of different classes in the target variable remains similar \n",
    "in both the training and testing sets. This is particularly useful \n",
    "when you have imbalanced classes in your dataset'''\n",
    "\n",
    "# print unique vaulues count in y_train and y_test numpy array\n",
    "# count of unique values in y_train\n",
    "print(np.unique(y_train, return_counts=True))\n",
    "# count of unique values in y_test\n",
    "print(np.unique(y_test, return_counts=True))"
   ]
  },
  {
   "cell_type": "code",
   "execution_count": 37,
   "id": "51d17f50",
   "metadata": {},
   "outputs": [],
   "source": [
    "# Create a K-Nearest Neighbors classifier with, for example, k=7\n",
    "knn_classifier = KNeighborsClassifier(n_neighbors=7)\n",
    "\n",
    "# Fit the KNN classifier on the training set\n",
    "knn_classifier.fit(X_train, y_train)\n",
    "\n",
    "# Make predictions on the testing set\n",
    "y_val_pred = knn_classifier.predict(X_test)"
   ]
  },
  {
   "cell_type": "code",
   "execution_count": 38,
   "id": "8d2f11ad",
   "metadata": {},
   "outputs": [
    {
     "name": "stdout",
     "output_type": "stream",
     "text": [
      "\n",
      "Classification Report on Testing Set:\n",
      "              precision    recall  f1-score   support\n",
      "\n",
      "           0       0.65      0.62      0.63        21\n",
      "           1       0.50      0.20      0.29        10\n",
      "           2       0.95      0.99      0.97       169\n",
      "\n",
      "    accuracy                           0.91       200\n",
      "   macro avg       0.70      0.60      0.63       200\n",
      "weighted avg       0.90      0.91      0.90       200\n",
      "\n"
     ]
    }
   ],
   "source": [
    "# Make predictions on the testing set\n",
    "y_test_pred = knn_classifier.predict(X_test)\n",
    "\n",
    "# Print classification report on the testing set\n",
    "print('\\nClassification Report on Testing Set:')\n",
    "print(classification_report(y_test, y_test_pred))"
   ]
  },
  {
   "cell_type": "code",
   "execution_count": 39,
   "id": "8e4b057f",
   "metadata": {},
   "outputs": [
    {
     "name": "stdout",
     "output_type": "stream",
     "text": [
      "\n",
      "Confusion Matrix on Testing Set:\n",
      "[[ 13   1   7]\n",
      " [  6   2   2]\n",
      " [  1   1 167]]\n"
     ]
    }
   ],
   "source": [
    "from sklearn.metrics import confusion_matrix\n",
    "# Print confusion matrix\n",
    "conf_matrix_test = confusion_matrix(y_test, y_test_pred)\n",
    "print('\\nConfusion Matrix on Testing Set:')\n",
    "print(conf_matrix_test)"
   ]
  },
  {
   "cell_type": "code",
   "execution_count": 40,
   "id": "c14d849a",
   "metadata": {},
   "outputs": [
    {
     "name": "stdout",
     "output_type": "stream",
     "text": [
      "Accuracy on Testing Set: 91.0 %\n"
     ]
    }
   ],
   "source": [
    "# Calculate accuracy on the testing set\n",
    "accuracy_test = accuracy_score(y_test, y_test_pred)\n",
    "\n",
    "# Print Accuracy on the testing set\n",
    "print(f'Accuracy on Testing Set: {round(accuracy_test * 100, 2)} %')"
   ]
  },
  {
   "cell_type": "code",
   "execution_count": 51,
   "id": "559658c0",
   "metadata": {},
   "outputs": [
    {
     "name": "stdout",
     "output_type": "stream",
     "text": [
      "Enter the value for AGE: 18\n",
      "Enter the value for Urea: 12\n",
      "Enter the value for Cr: 2\n",
      "Enter the value for HbA1c: 2\n",
      "Enter the value for Chol: 25\n",
      "Enter the value for TG: 12\n",
      "Enter the value for HDL: 24\n",
      "Enter the value for LDL: 12\n",
      "Enter the value for VLDL: 2\n",
      "Enter the value for BMI: 56\n",
      "Enter the value for Gender_encoded: 0\n",
      "Predicted Class for the User Input: n\n"
     ]
    }
   ],
   "source": [
    "# Get user input for each independent variable\n",
    "user_input_array = np.empty((1, len(numerical_features.columns)))\n",
    "\n",
    "for i, feature_name in enumerate(numerical_features.columns):\n",
    "    user_input = float(input(f\"Enter the value for {feature_name}: \"))\n",
    "    user_input_array[0, i] = user_input\n",
    "\n",
    "# Make prediction for user input\n",
    "user_prediction = knn_classifier.predict(user_input_array)\n",
    "\n",
    "# Convert the encoded prediction back to the original class label\n",
    "predicted_class_user = encoder.inverse_transform(user_prediction)[0]\n",
    "\n",
    "# Display the prediction\n",
    "print(\"Predicted Class for the User Input:\", predicted_class_user)"
   ]
  },
  {
   "cell_type": "code",
   "execution_count": null,
   "id": "5b7a16f7",
   "metadata": {},
   "outputs": [],
   "source": []
  }
 ],
 "metadata": {
  "kernelspec": {
   "display_name": "Python 3 (ipykernel)",
   "language": "python",
   "name": "python3"
  },
  "language_info": {
   "codemirror_mode": {
    "name": "ipython",
    "version": 3
   },
   "file_extension": ".py",
   "mimetype": "text/x-python",
   "name": "python",
   "nbconvert_exporter": "python",
   "pygments_lexer": "ipython3",
   "version": "3.9.18"
  }
 },
 "nbformat": 4,
 "nbformat_minor": 5
}
